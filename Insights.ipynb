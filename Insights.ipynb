{
  "nbformat": 4,
  "nbformat_minor": 0,
  "metadata": {
    "colab": {
      "provenance": []
    },
    "kernelspec": {
      "name": "python3",
      "display_name": "Python 3"
    },
    "language_info": {
      "name": "python"
    }
  },
  "cells": [
    {
      "cell_type": "markdown",
      "source": [
        "# Insights"
      ],
      "metadata": {
        "id": "rzOKheOiy97n"
      }
    },
    {
      "cell_type": "markdown",
      "source": [
        "INSIGHTS AND PATTERNS IDENTIFIED FROM THE ANALYSIS\n",
        "\n",
        "The Analysis reveals distinct trends in pricing, performance, driventrain influence and fuel efficiency across different vehicle categories. Larger vehicles, such as SUVs and trucks, tend to have higher MSRPs, suggesting that size plays a significant role in determining vehicle price.Also, smaller vehicles are more affordable, making them attractive to budget-conscious.Additionally, horsepower is strongly correlated with MSRP, indicating that vehicles with more powerful engines tend to cost more.however, some outliers exist, particularly in the high-performance and Luxury segments.\n",
        "\n",
        "Drivetrain configuration also show a noticeable impact on price.All-Wheel Drive and Rear-Wheel Drive vehicles generally have higher mSRPs, likely due to their presence in premium, performance or off-road-focused models. Front-Wheel Drive cars,tend to be more affordable, making them common in economy vehicles.when analyzing fuel efficiency, the results indicate that manual and CVT vehicles often have better city and highway mpg compared to traditional automatic transmissions."
      ],
      "metadata": {
        "id": "8tSA92SkzJcI"
      }
    }
  ]
}