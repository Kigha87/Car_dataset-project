{
  "nbformat": 4,
  "nbformat_minor": 0,
  "metadata": {
    "colab": {
      "provenance": [],
      "toc_visible": true
    },
    "kernelspec": {
      "name": "python3",
      "display_name": "Python 3"
    },
    "language_info": {
      "name": "python"
    }
  },
  "cells": [
    {
      "cell_type": "markdown",
      "source": [
        "## IMPORTING PACKAGES\n"
      ],
      "metadata": {
        "id": "JRwgBEQjVWT7"
      }
    },
    {
      "cell_type": "code",
      "source": [
        "import numpy as np # for numerical operatons\n",
        "import pandas as pd # data manipulation and analysis\n",
        "import matplotlib.pyplot as plt\n",
        "import seaborn as sns # visualization libraries\n",
        "from google.colab import drive\n",
        "drive.mount('/content/drive')"
      ],
      "metadata": {
        "colab": {
          "base_uri": "https://localhost:8080/"
        },
        "id": "fXiLkp26lWb1",
        "outputId": "29ffd584-6bd5-4238-8fd4-09c8b4111ccf"
      },
      "execution_count": 2,
      "outputs": [
        {
          "output_type": "stream",
          "name": "stdout",
          "text": [
            "Mounted at /content/drive\n"
          ]
        }
      ]
    },
    {
      "cell_type": "markdown",
      "source": [
        "# Data Loading"
      ],
      "metadata": {
        "id": "JygchHf9n6B8"
      }
    },
    {
      "cell_type": "code",
      "source": [
        " #loading a csv file\n",
        "\n",
        "df_car = pd.read_csv('/content/drive/MyDrive/Datasets/ data.csv')"
      ],
      "metadata": {
        "id": "245cj3nioLGN"
      },
      "execution_count": 3,
      "outputs": []
    },
    {
      "cell_type": "markdown",
      "source": [
        "##2: FEATURE ENGINEERING"
      ],
      "metadata": {
        "id": "aOXdj2WY62a1"
      }
    },
    {
      "cell_type": "markdown",
      "source": [
        "##2.1: Creating New Columns"
      ],
      "metadata": {
        "id": "wGcj3S6N8aTL"
      }
    },
    {
      "cell_type": "code",
      "source": [
        " cleaned_file = pd.read_csv('cleaned_data.csv') # creating a new column of average Total MPG\n",
        "cleaned_file['Total MPG'] = (cleaned_file['city mpg'] + cleaned_file['highway MPG']) / 2\n",
        "# creating a new column for price per HP\n",
        "cleaned_file['Price per HP'] = cleaned_file['MSRP'] / cleaned_file['Engine HP']\n",
        "print(cleaned_file)"
      ],
      "metadata": {
        "colab": {
          "base_uri": "https://localhost:8080/"
        },
        "id": "XaoIMd_38tTn",
        "outputId": "29468580-64ad-4458-eecf-304367956d58"
      },
      "execution_count": 21,
      "outputs": [
        {
          "output_type": "stream",
          "name": "stdout",
          "text": [
            "          Make       Model  Year                Engine Fuel Type  Engine HP  \\\n",
            "0          BMW  1 Series M  2011     premium unleaded (required)      335.0   \n",
            "1          BMW    1 Series  2011     premium unleaded (required)      300.0   \n",
            "2          BMW    1 Series  2011     premium unleaded (required)      300.0   \n",
            "3          BMW    1 Series  2011     premium unleaded (required)      230.0   \n",
            "4          BMW    1 Series  2011     premium unleaded (required)      230.0   \n",
            "...        ...         ...   ...                             ...        ...   \n",
            "11909    Acura         ZDX  2012     premium unleaded (required)      300.0   \n",
            "11910    Acura         ZDX  2012     premium unleaded (required)      300.0   \n",
            "11911    Acura         ZDX  2012     premium unleaded (required)      300.0   \n",
            "11912    Acura         ZDX  2013  premium unleaded (recommended)      300.0   \n",
            "11913  Lincoln      Zephyr  2006                regular unleaded      221.0   \n",
            "\n",
            "       Engine Cylinders Transmission Type      Driven_Wheels  Number of Doors  \\\n",
            "0                   6.0            MANUAL   rear wheel drive              2.0   \n",
            "1                   6.0            MANUAL   rear wheel drive              2.0   \n",
            "2                   6.0            MANUAL   rear wheel drive              2.0   \n",
            "3                   6.0            MANUAL   rear wheel drive              2.0   \n",
            "4                   6.0            MANUAL   rear wheel drive              2.0   \n",
            "...                 ...               ...                ...              ...   \n",
            "11909               6.0         AUTOMATIC    all wheel drive              4.0   \n",
            "11910               6.0         AUTOMATIC    all wheel drive              4.0   \n",
            "11911               6.0         AUTOMATIC    all wheel drive              4.0   \n",
            "11912               6.0         AUTOMATIC    all wheel drive              4.0   \n",
            "11913               6.0         AUTOMATIC  front wheel drive              4.0   \n",
            "\n",
            "                             Market Category Vehicle Size  Vehicle Style  \\\n",
            "0      Factory Tuner,Luxury,High-Performance      Compact          Coupe   \n",
            "1                         Luxury,Performance      Compact    Convertible   \n",
            "2                    Luxury,High-Performance      Compact          Coupe   \n",
            "3                         Luxury,Performance      Compact          Coupe   \n",
            "4                                     Luxury      Compact    Convertible   \n",
            "...                                      ...          ...            ...   \n",
            "11909             Crossover,Hatchback,Luxury      Midsize  4dr Hatchback   \n",
            "11910             Crossover,Hatchback,Luxury      Midsize  4dr Hatchback   \n",
            "11911             Crossover,Hatchback,Luxury      Midsize  4dr Hatchback   \n",
            "11912             Crossover,Hatchback,Luxury      Midsize  4dr Hatchback   \n",
            "11913                                 Luxury      Midsize          Sedan   \n",
            "\n",
            "       highway MPG  city mpg  Popularity     MSRP  Total MPG  Price per HP  \n",
            "0             26.0      19.0        3916  46135.0       22.5    137.716418  \n",
            "1             28.0      19.0        3916  40650.0       23.5    135.500000  \n",
            "2             28.0      20.0        3916  36350.0       24.0    121.166667  \n",
            "3             28.0      18.0        3916  29450.0       23.0    128.043478  \n",
            "4             28.0      18.0        3916  34500.0       23.0    150.000000  \n",
            "...            ...       ...         ...      ...        ...           ...  \n",
            "11909         23.0      16.0         204  46120.0       19.5    153.733333  \n",
            "11910         23.0      16.0         204  56670.0       19.5    188.900000  \n",
            "11911         23.0      16.0         204  50620.0       19.5    168.733333  \n",
            "11912         23.0      16.0         204  50920.0       19.5    169.733333  \n",
            "11913         26.0      17.0          61  28995.0       21.5    131.199095  \n",
            "\n",
            "[11914 rows x 18 columns]\n"
          ]
        }
      ]
    }
  ]
}