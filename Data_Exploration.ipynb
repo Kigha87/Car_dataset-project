{
  "nbformat": 4,
  "nbformat_minor": 0,
  "metadata": {
    "colab": {
      "provenance": []
    },
    "kernelspec": {
      "name": "python3",
      "display_name": "Python 3"
    },
    "language_info": {
      "name": "python"
    }
  },
  "cells": [
    {
      "cell_type": "code",
      "execution_count": 1,
      "metadata": {
        "colab": {
          "base_uri": "https://localhost:8080/"
        },
        "id": "isvPGjKmwHx6",
        "outputId": "5eb5602f-d604-4131-e427-4a0bbc262cb9"
      },
      "outputs": [
        {
          "output_type": "stream",
          "name": "stdout",
          "text": [
            "Mounted at /content/drive\n"
          ]
        }
      ],
      "source": [
        "import numpy as np # for numerical operatons\n",
        "import pandas as pd # data manipulation and analysis\n",
        "import matplotlib.pyplot as plt\n",
        "import seaborn as sns # visualization libraries\n",
        "from google.colab import drive\n",
        "drive.mount('/content/drive')"
      ]
    },
    {
      "cell_type": "code",
      "source": [
        "#loading a csv file\n",
        "\n",
        "df_car = pd.read_csv('/content/drive/MyDrive/Datasets/ data.csv')"
      ],
      "metadata": {
        "id": "vzXDKGUnwNGb"
      },
      "execution_count": 2,
      "outputs": []
    },
    {
      "cell_type": "markdown",
      "source": [
        "# Data Exploration"
      ],
      "metadata": {
        "id": "SEBMo_T_wVkc"
      }
    },
    {
      "cell_type": "markdown",
      "source": [
        "## Descriptive Statistics"
      ],
      "metadata": {
        "id": "UrgWVe67wqmP"
      }
    },
    {
      "cell_type": "code",
      "source": [
        "# selecting columns for summary stats and calculating their meam, median and std\n",
        "columns = ['Engine HP', 'MSRP', 'Popularity', 'highway MPG', 'city mpg']\n",
        "summary_stats = df_car[columns].agg(['mean', 'median', 'std'])\n",
        "print(summary_stats)"
      ],
      "metadata": {
        "colab": {
          "base_uri": "https://localhost:8080/"
        },
        "id": "c3iVrea_wbAQ",
        "outputId": "6ff9daf2-b460-4b8d-da39-d25c1688ac9f"
      },
      "execution_count": 3,
      "outputs": [
        {
          "output_type": "stream",
          "name": "stdout",
          "text": [
            "        Engine HP          MSRP   Popularity  highway MPG   city mpg\n",
            "mean    249.38607  40594.737032  1554.911197    26.637485  19.733255\n",
            "median  227.00000  29995.000000  1385.000000    26.000000  18.000000\n",
            "std     109.19187  60109.103604  1441.855347     8.863001   8.987798\n"
          ]
        }
      ]
    },
    {
      "cell_type": "markdown",
      "source": [
        "### Group Analysis"
      ],
      "metadata": {
        "id": "l1f6B53Ww71H"
      }
    },
    {
      "cell_type": "code",
      "source": [
        "# group by Driven_Wheels, vehicle size, and Engine Cylinders\n",
        "df_grouped = df_car.groupby(['Driven_Wheels', 'Vehicle Size', 'Engine Cylinders'])\\\n",
        " [['MSRP', 'Popularity']].mean()\n",
        "print(df_grouped)"
      ],
      "metadata": {
        "colab": {
          "base_uri": "https://localhost:8080/"
        },
        "id": "xpMlwYi9xBnn",
        "outputId": "69846bd0-43a0-41fe-cd09-835ab2c2faa9"
      },
      "execution_count": 4,
      "outputs": [
        {
          "output_type": "stream",
          "name": "stdout",
          "text": [
            "                                                         MSRP   Popularity\n",
            "Driven_Wheels    Vehicle Size Engine Cylinders                            \n",
            "all wheel drive  Compact      4.0                30456.208861  1258.037975\n",
            "                              5.0                23431.818182  2292.272727\n",
            "                              6.0                67624.329897  1444.865979\n",
            "                              8.0                99476.923077  3497.615385\n",
            "                              10.0              205888.918919  2052.567568\n",
            "...                                                       ...          ...\n",
            "rear wheel drive Midsize      4.0                27187.500000  1827.947761\n",
            "                              5.0                 2000.000000   617.000000\n",
            "                              6.0                31736.913127  1563.009653\n",
            "                              8.0                45412.653846  2200.098291\n",
            "                              12.0              248680.734694   968.142857\n",
            "\n",
            "[61 rows x 2 columns]\n"
          ]
        }
      ]
    }
  ]
}